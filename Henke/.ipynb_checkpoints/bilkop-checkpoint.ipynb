{
 "cells": [
  {
   "cell_type": "code",
   "execution_count": 15,
   "metadata": {},
   "outputs": [
    {
     "data": {
      "text/plain": [
       "'99%'"
      ]
     },
     "metadata": {},
     "output_type": "display_data"
    },
    {
     "name": "stdout",
     "output_type": "stream",
     "text": [
      "Manuell\n",
      "Manuell\n",
      "Manuell\n",
      "Automat\n",
      "Manuell\n",
      "Mer än 50 000 mil\n",
      "Automat\n",
      "Manuell\n",
      "Automat\n"
     ]
    }
   ],
   "source": []
  },
  {
   "cell_type": "code",
   "execution_count": 137,
   "metadata": {},
   "outputs": [],
   "source": [
    "import datetime\n",
    "\n",
    "class Car:\n",
    "    def __init__(self, url):\n",
    "        self.url = url\n",
    "        uClient = uReq(self.url)\n",
    "        page_html = uClient.read()\n",
    "        uClient.close()\n",
    "        page_soup = soup(page_html, \"html.parser\")\n",
    "        \n",
    "        price_str = page_soup.find(\"div\", {\"class\":\"TextHeadline1__TextHeadline1Wrapper-sc-18mtyla-0 jwGyyY Price__StyledPrice-crp2x0-0 EkzGO\"}).text\n",
    "        self.price = int(''.join(c for c in price_str.split(\"(\")[0] if c.isdigit()))\n",
    "        \n",
    "        date_str = page_soup.find(\"span\", {\"class\":\"TextCallout2__TextCallout2Wrapper-sc-19qvftl-0 gxfHlJ PublishedTime__StyledTime-pjprkp-1 ZAknf\"}).text\n",
    "        self.date = self.get_date(date_str)\n",
    "        \n",
    "        self.basic_info = {}\n",
    "        info_cont = page_soup.find(\"div\", {\"class\":\"AdParams__ParamsWrapper-sc-1vxw014-2 gWITvi\"})\n",
    "        key_div = info_cont.findAll('div', {'class':'TextCallout2__TextCallout2Wrapper-sc-19qvftl-0 gxfHlJ ParamsWithIcons__StyledLabel-hanfos-2 fSgrOG'})\n",
    "        info_div = info_cont.findAll('div', {'class':'TextCallout1__TextCallout1Wrapper-qzrnab-0 lkIkoj ParamsWithIcons__StyledParamValue-hanfos-3 eZCCwh'})\n",
    "        \n",
    "        for key, info in zip(key_div, info_div):\n",
    "            self.basic_info.update( {key.text : info.text} )\n",
    "            \n",
    "        car_features = page_soup.findAll(\"li\", {\"class\":\"CarFeaturesList__ListItem-sc-1sasr52-3 joupKr\"})\n",
    "        self.equipment = [e.text for e in car_features]\n",
    "        self.description = page_soup.find(\"div\", {\"class\":\"TextBody__TextBodyWrapper-sc-17pzx5f-0 lbkVoL BodyCard__DescriptionPart-sc-15r463q-2 bYSeDO\"}).text\n",
    "        self.sensor = self.has_sensor(self.equipment, self.description)\n",
    "        self.prev_price = [self.price]\n",
    "        self.sold = False\n",
    "        self.milage = int(self.basic_info[\"Miltal\"].split('-')[-1].replace(' ',''))\n",
    "        try:\n",
    "            self.hp = int(''.join(c for c in self.basic_info[\"Hästkrafter\"] if c.isdigit()))\n",
    "        except KeyError:\n",
    "            self.hp = None\n",
    "            print(self.url)\n",
    "        self.year = int(self.basic_info[\"Modellår\"].replace(' ',''))\n",
    "        print('Above car costs:', self.price)\n",
    "            \n",
    "\n",
    "    def has_sensor(self, equipment, description):\n",
    "        keywords = ['parkeringssensor', \n",
    "                    'backkamera',\n",
    "                    'psensor',\n",
    "                    'p-sensor',\n",
    "                    'kamera',\n",
    "                    'back-kamera']\n",
    "        for k in keywords:\n",
    "            if k in description.casefold():\n",
    "                return True\n",
    "        for k in keywords:\n",
    "            for e in equipment:\n",
    "                if k in e.casefold():\n",
    "                    return True\n",
    "        return False\n",
    "        \n",
    "    def get_date(self, string):\n",
    "        year = '2020'\n",
    "        if \"idag\" in string:\n",
    "            return datetime.datetime.today().date()\n",
    "        if \"igår\" in string:\n",
    "            return datetime.datetime.today().date() - datetime.timedelta(days = 1)\n",
    "        if 'måndags' in string:\n",
    "            offset = (datetime.datetime.today().weekday() - 0)%7\n",
    "            return datetime.datetime.today().date() - datetime.timedelta(days = offset)\n",
    "        if 'tisdags' in string:\n",
    "            offset = (datetime.datetime.today().weekday() - 1)%7\n",
    "            return datetime.datetime.today().date() - datetime.timedelta(days = offset)\n",
    "        if 'onsdags' in string:\n",
    "            offset = (datetime.datetime.today().weekday() - 2)%7\n",
    "            return datetime.datetime.today().date() - datetime.timedelta(days = offset)\n",
    "        if 'torsdags' in string:\n",
    "            offset = (datetime.datetime.today().weekday() - 3)%7\n",
    "            return datetime.datetime.today().date() - datetime.timedelta(days = offset)\n",
    "        if 'fredags' in string:\n",
    "            offset = (datetime.datetime.today().weekday() - 4)%7\n",
    "            return datetime.datetime.today().date() - datetime.timedelta(days = offset)\n",
    "        if 'lördags' in string:\n",
    "            offset = (datetime.datetime.today().weekday() - 5)%7\n",
    "            return datetime.datetime.today().date() - datetime.timedelta(days = offset)\n",
    "        if 'söndags' in string:\n",
    "            offset = (datetime.datetime.today().weekday() - 6)%7\n",
    "            return datetime.datetime.today().date() - datetime.timedelta(days = offset)\n",
    "            \n",
    "        \n",
    "        mounth_dict = {\n",
    "            'jan.' : '01',\n",
    "            'feb.' : '02',\n",
    "            'mars' : '03',\n",
    "            'apr.' : '04',\n",
    "            'maj' : '05',\n",
    "            'juni' : '06',\n",
    "            'juli' : '07',\n",
    "            'aug.' : '08',\n",
    "            'sep.' : '09',\n",
    "            'okt.' : '10',\n",
    "            'nov.' : '11',\n",
    "            'dec.' : '12'\n",
    "        }\n",
    "        string = string.replace(\"Inlagd: \",'')[0:-6].split(' ')\n",
    "        d = string[0]\n",
    "        m = mounth_dict[string[1]]\n",
    "        date_str = year + '-' + m + '-' + d\n",
    "        date = datetime.datetime.strptime(date_str, '%Y-%m-%d').date()\n",
    "        if date > datetime.datetime.today().date():\n",
    "            date = date - datetime.timedelta(days = 365)\n",
    "        return date\n",
    "    \n",
    "    def update_price(self, new_price):\n",
    "        if not new_price == self.price:\n",
    "            self.price = new_price\n",
    "            self.prev_price.append(self.price)\n",
    "            print(\"Updated price:\", self.prev_price, car.url)\n",
    "            \n",
    "        \n",
    "        "
   ]
  },
  {
   "cell_type": "code",
   "execution_count": 15,
   "metadata": {},
   "outputs": [
    {
     "name": "stdout",
     "output_type": "stream",
     "text": [
      "started\n",
      "877 annonser\n",
      "22\n"
     ]
    },
    {
     "data": {
      "text/plain": [
       "'877'"
      ]
     },
     "metadata": {},
     "output_type": "display_data"
    },
    {
     "name": "stdout",
     "output_type": "stream",
     "text": [
      "https://www.blocket.se/annons/skane/volkswagen_golf_gtd_dsg_pano_dynaudio_lagmil/89415300\n",
      "https://www.blocket.se/annons/stockholm/volkswagen_golf_1_4_5_dorrar_tgi_cng_auto_eur/89278557\n",
      "https://www.blocket.se/annons/stockholm/volkswagen_golf_r_facelift_4_m_panorama_svens/88440412\n",
      "https://www.blocket.se/annons/stockholm/volkswagen_golf_2_0tdi_gtd_dsg_184hk_6200mil/89072004\n",
      "https://www.blocket.se/annons/jonkoping/volkswagen_golf_1_4_tsi_140_bluemotion_highl/89027764\n",
      "https://www.blocket.se/annons/stockholm/volkswagen_golf_1_2tsi_master_110hk_6400mil/89024544\n",
      "https://www.blocket.se/annons/stockholm/volkswagen_golf_gte_1_4_tsi_plug_in_4700mil/88773357\n",
      "https://www.blocket.se/annons/stockholm/volkswagen_golf_1_2_tsi_bluemotion__105hk_/88977891\n",
      "https://www.blocket.se/annons/stockholm/volkswagen_golf_gti_performance_1_90__ranta/88691853\n",
      "https://www.blocket.se/annons/halland/volkswagen_golf_1_4_tgi_cng_0kr_kontant/88964113\n",
      "https://www.blocket.se/annons/stockholm/volkswagen_golf_1_6_tdi_style_105hk_bluemotio/88913576\n",
      "https://www.blocket.se/annons/stockholm/volkswagen_golf_1_6tdi_bluemotion_auto_blueto/88898043\n",
      "https://www.blocket.se/annons/skane/volkswagen_golf_5_dorrar_1_6_tdi_dsg_105hk/76755281\n",
      "https://www.blocket.se/annons/skane/volkswagen_golf_1_4_125hk_tsi_masters_lagmil/88816820\n",
      "https://www.blocket.se/annons/uppsala/volkswagen_golf_1_6_tdi_dsg_style_masters_5d/88716913\n",
      "https://www.blocket.se/annons/stockholm/volkswagen_golf_1_4_tsi_bluemotion_panorama_d/88588672\n",
      "https://www.blocket.se/annons/stockholm/volkswagen_golf_1_2tsi_aut_style_5_d_8900mil/88231200\n",
      "https://www.blocket.se/annons/stockholm/volkswagen_golf_gti_dsg_skinn_obs_3750_mil/85547924\n",
      "https://www.blocket.se/annons/skane/volkswagen_golf_2_0_tdi_150_pluspaket___leasb/80852727\n",
      "cars_at_1587134371.pickle\n"
     ]
    }
   ],
   "source": []
  },
  {
   "cell_type": "code",
   "execution_count": null,
   "metadata": {},
   "outputs": [],
   "source": []
  },
  {
   "cell_type": "code",
   "execution_count": null,
   "metadata": {},
   "outputs": [],
   "source": []
  },
  {
   "cell_type": "code",
   "execution_count": null,
   "metadata": {},
   "outputs": [],
   "source": []
  },
  {
   "cell_type": "code",
   "execution_count": 138,
   "metadata": {},
   "outputs": [
    {
     "name": "stdout",
     "output_type": "stream",
     "text": [
      "started\n"
     ]
    },
    {
     "data": {
      "text/plain": [
       "'1147'"
      ]
     },
     "metadata": {},
     "output_type": "display_data"
    },
    {
     "name": "stdout",
     "output_type": "stream",
     "text": [
      "Updated price: [123900, 118900] https://www.blocket.se/annons/stockholm/volkswagen_golf_5dr_1_4_tsi_r_line___s_v_160h/88037128\n",
      "Updated price: [209500, 199000] https://www.blocket.se/annons/stockholm/volkswagen_golf_gte_1_4_tsi_dsg6_phev_varmare/88088756\n",
      "Added new car https://www.blocket.se/annons/stockholm/volkswagen_golf_5dr_1_4_tsi_r_line_drag_b_kam/89700606\n",
      "Above car costs: 133900\n",
      "Added new car https://www.blocket.se/annons/stockholm/volkswagen_golf_sportsvan_tdi_bm_comfort_kame/89692858\n",
      "Above car costs: 107900\n",
      "Added new car https://www.blocket.se/annons/orebro/volkswagen_golf_1_6_tdi_bluemotion_dsg_style/89686576\n",
      "Above car costs: 149000\n",
      "Updated price: [199900, 189900, 184900] https://www.blocket.se/annons/skane/volkswagen_golf_gtd_2_0_tdi_dsg_sekventiell_e/88725541\n",
      "Added new car https://www.blocket.se/annons/stockholm/volkswagen_golf_5_dorrar_1_4_tsi_multifuel_st/89686227\n",
      "Above car costs: 89900\n",
      "Added new car https://www.blocket.se/annons/jonkoping/volkswagen_golf_5_door_gtd_2_0_tdi_dsg_sekven/89683713\n",
      "Above car costs: 179900\n",
      "Added new car https://www.blocket.se/annons/ostergotland/volkswagen_golf_1_6_tdi_105hk_dsg_style/89682992\n",
      "Above car costs: 89900\n",
      "Added new car https://www.blocket.se/annons/stockholm/volkswagen_golf_1_6_tdi_dsg_drag_carplay_eu6/89638716\n",
      "Above car costs: 159900\n",
      "Updated price: [99000, 109000] https://www.blocket.se/annons/dalarna/volkswagen_golf_5_dorrar_1_6_tdi_4motion_comf/88381792\n",
      "Updated price: [109900, 99900] https://www.blocket.se/annons/stockholm/volkswagen_golf_5_dorrar_1_2_tsi_110hk_euro6/89271563\n",
      "Added new car https://www.blocket.se/annons/halland/volkswagen_golf_1_2_tsi_dsg_style_110hk_euro6/89254571\n",
      "Above car costs: 142500\n",
      "Added new car https://www.blocket.se/annons/stockholm/volkswagen_golf_1_2_tsi_pdc_17__vhjul/87746143\n",
      "Above car costs: 102500\n",
      "Updated price: [217500, 209900, 199000] https://www.blocket.se/annons/stockholm/volkswagen_golf_gte_1_4_tsi_euro_6_204hk_drag/88516036\n",
      "Sold car 144500 https://www.blocket.se/annons/stockholm/volkswagen_golf_1_4_tsi_150_gt___r_line___p_s/87777155\n",
      "Sold car 134900 https://www.blocket.se/annons/skane/volkswagen_golf_tsi_110/89386120\n",
      "Sold car 124900 https://www.blocket.se/annons/ostergotland/volkswagen_golf_1_2_tsi_style_euro_6_110hk/89383993\n",
      "Sold car 179000 https://www.blocket.se/annons/alvsborg/volkswagen_e_golf_24_2_kwh_single_speed_115hk/89383038\n",
      "Sold car 114000 https://www.blocket.se/annons/skane/volkswagen_golf_5_dorrar_1_4_tsi_multifuel_co/89373630\n",
      "Sold car 129900 https://www.blocket.se/annons/stockholm/volkswagen_golf_1_6_d_varmare_aut_drag_kamera/88979640\n",
      "Sold car 142500 https://www.blocket.se/annons/halland/volkswagen_golf_1_2_tsi_dsg_style_110hk_1_99_/89254571\n",
      "Sold car 159900 https://www.blocket.se/annons/gavleborg/volkswagen_golf_1_4_tsi_150hk_gt__r_line/88452067\n",
      "Sold car 102500 https://www.blocket.se/annons/stockholm/volkswagen_golf_1_95__ranta_lagerutforsaljnin/87746143\n",
      "Sold car 154500 https://www.blocket.se/annons/stockholm/volkswagen_golf_1_4_tsi_150_gt___p_sensorer__/88130014\n",
      "Sold car 149500 https://www.blocket.se/annons/halland/volkswagen_golf_1_2_tsi_dsg_style_1_99__ranta/88918441\n",
      "Sold car 154800 https://www.blocket.se/annons/goteborg/volkswagen_golf_2_95__ranta_t_o_m_30_4_tsi_11/88570429\n",
      "Sold car 189000 https://www.blocket.se/annons/skane/volkswagen_golf_gtd_2_0_tdi_184hk_euro_6_sven/88832744\n",
      "Sold car 154500 https://www.blocket.se/annons/stockholm/volkswagen_golf_1_4_tsi_150_gt_1_4_hlbm_110ts/88225529\n",
      "Sold car 109900 https://www.blocket.se/annons/skane/volkswagen_golf_1_6_tdi___dsg___style___drag/89516669\n",
      "Sold car 99900 https://www.blocket.se/annons/skane/volkswagen_golf_5_dr_1_6_tdi_bluemotion_110hk/89528146\n",
      "Sold car 179900 https://www.blocket.se/annons/skane/volkswagen_golf_gtd_2_0_tdi_dsg_pano_navi_eu6/89534231\n",
      "Sold car 109900 https://www.blocket.se/annons/stockholm/volkswagen_golf_5_dorrar_1_6_tdi_dsg_sekventi/89548712\n",
      "Sold car 112900 https://www.blocket.se/annons/jonkoping/volkswagen_golf_tsi_125hk_sensorer/89596141\n",
      "Sold car 91000 https://www.blocket.se/annons/goteborg/volkswagen_golf_vii_1_6_tdi_bluemotion_techno/89606397\n",
      "Sold car 79900 https://www.blocket.se/annons/goteborg/volkswagen_golf_1_2_tsi_bluemotion_style_105h/89624337\n",
      "Sold car 159900 https://www.blocket.se/annons/stockholm/volkswagen_golf_ranta_1_95__1_6_tdi_dsg_drag/89638716\n",
      "Sold car 139800 https://www.blocket.se/annons/goteborg/volkswagen_golf_gt_tsi_140hk_plus_pkt_panoram/89648091\n",
      "Sold car 148500 https://www.blocket.se/annons/skane/volkswagen_golf_1_0_tsi_110hk_dsg_euro6/89662085\n",
      "cars_at_1588570511.pickle\n"
     ]
    }
   ],
   "source": [
    "## Add new cars\n",
    "import bs4\n",
    "from urllib.request import urlopen as uReq\n",
    "from bs4 import BeautifulSoup as soup\n",
    "from IPython.display import clear_output, display\n",
    "print('started')\n",
    "\n",
    "import math \n",
    "import pickle\n",
    "import time\n",
    "\n",
    "#file_name = \"cars_at_1588405708.pickle\"\n",
    "#pickle_in = open(file_name, 'rb')\n",
    "#car_array = pickle.load(pickle_in)\n",
    "#pickle_in.close()\n",
    "car_array = []\n",
    "\n",
    "my_url = f'https://www.blocket.se/annonser/hela_sverige/fordon/bilar?cb=41&cbl1=9&cg=1020&mye=2016&mys=2006&page=1&pe=11&q=dragkrok&sort=date'\n",
    "uClient = uReq(my_url)\n",
    "page_html = uClient.read()\n",
    "uClient.close()\n",
    "page_soup = soup(page_html, \"html.parser\")\n",
    "pages_str = page_soup.find(\"div\", {'data-cy':\"search-result-count\"}).text\n",
    "pages = math.ceil(int(''.join(c for c in pages_str if c.isdigit()))/40)\n",
    "\n",
    "all_car_url = [car.url for car in car_array]\n",
    "\n",
    "cars_len = display(str(len(car_array)),display_id=True)\n",
    "i = 1\n",
    "new_cars = True\n",
    "found_url = []\n",
    "for i in range(1, pages+1):\n",
    "    my_url = f'https://www.blocket.se/annonser/hela_sverige/fordon/bilar?cb=41&cbl1=9&cg=1020&mye=2016&mys=2006&page={i}&pe=11&q=dragkrok&sort=date'\n",
    "    uClient = uReq(my_url)\n",
    "    page_html = uClient.read()\n",
    "    uClient.close()\n",
    "\n",
    "    page_soup = soup(page_html, \"html.parser\")\n",
    "    containers = page_soup.findAll(\"div\", {\"class\":\"styled__Wrapper-sc-1kpvi4z-0 itHtzm\"})\n",
    "\n",
    "    for cont in containers:\n",
    "        url = 'https://www.blocket.se'+cont['to']\n",
    "        found_url.append(url)\n",
    "        if not url in all_car_url:\n",
    "            print(\"Added new car\", url)\n",
    "            car_array.append(Car(url))\n",
    "            cars_len.update(str(len(car_array)))\n",
    "        else:\n",
    "            price_str = cont.find(\"div\", {\"TextSubHeading__TextSubHeadingWrapper-sc-1ilszdp-0 bcaUdR Price__Wrapper-sc-1v2maoc-0 bNwNaE\"})\n",
    "            price = int(''.join(c for c in price_str.text.split(\"(\")[0] if c.isdigit()))\n",
    "            for car in car_array:\n",
    "                if car.url == url:\n",
    "                    car.update_price(price)\n",
    "\n",
    "for car in car_array:\n",
    "    if not car.url in found_url and not car.sold:\n",
    "        print(\"Sold car\", car.price, car.url)\n",
    "        car.sold = True\n",
    "            \n",
    "c_time = int(time.time())\n",
    "filename = f\"cars_at_{c_time}.pickle\"\n",
    "pickle_out = open(filename, \"wb\")\n",
    "pickle.dump(car_array, pickle_out)\n",
    "pickle_out.close()\n",
    "print(filename)"
   ]
  },
  {
   "cell_type": "code",
   "execution_count": 107,
   "metadata": {},
   "outputs": [
    {
     "data": {
      "image/png": "[encoded data removed]",
      "text/plain": [
       "<Figure size 432x288 with 1 Axes>"
      ]
     },
     "metadata": {
      "needs_background": "light"
     },
     "output_type": "display_data"
    },
    {
     "name": "stdout",
     "output_type": "stream",
     "text": [
      "2013 https://www.blocket.se/annons/jamtland/volkswagen_golf_1_2_tsi_bluemotion_105hk_nyse/89007645 Bensin \n",
      "2013 https://www.blocket.se/annons/ostergotland/volkswagen_golf_plus_tdi_105hk__drag_/88476534 Diesel \n",
      "2013 https://www.blocket.se/annons/jonkoping/vw_golf_plus_1_6_tdi_bmt_drag_vhjul_105hk/89183519 Diesel \n",
      "2013 https://www.blocket.se/annons/varmland/volkswagen_golf_5_dorrar_1_2_tsi_bluemotion_s/89635689 Bensin \n",
      "1079\n",
      "517\n"
     ]
    }
   ],
   "source": [
    "import matplotlib.pyplot as plt\n",
    "import matplotlib.dates as mdates\n",
    "import numpy as np\n",
    "import datetime as dt\n",
    "\n",
    "file_name = \"cars_at_1588161740.pickle\"\n",
    "pickle_in = open(file_name, 'rb')\n",
    "cars = pickle.load(pickle_in)\n",
    "pickle_in.close()\n",
    "\n",
    "#plt.gca().xaxis.set_major_formatter(mdates.DateFormatter('%Y-%m-%d'))\n",
    "#plt.gca().xaxis.set_major_locator(mdates.DayLocator(interval=20))\n",
    "\n",
    "milage = [car.milage for car in cars if car.year == 2013 and car.sensor] \n",
    "price = [car.price for car in cars if car.year == 2013 and car.sensor]\n",
    "plt.plot(milage,price,'.c', markersize = 20, label = '2013')\n",
    "\n",
    "milage = [car.milage for car in cars if car.year == 2014 and car.sensor] \n",
    "price = [car.price for car in cars if car.year == 2014 and car.sensor]\n",
    "plt.plot(milage,price,'.b', markersize = 20, label = '2014')\n",
    "\n",
    "milage = [car.milage for car in cars if car.year == 2015 and car.sensor]\n",
    "price = [car.price for car in cars if car.year == 2015 and car.sensor]\n",
    "plt.plot(milage,price,'.g', markersize = 15, label = '2015')\n",
    "\n",
    "milage = [car.milage for car in cars if car.year == 2016 and car.sensor]\n",
    "price = [car.price for car in cars if car.year == 2016 and car.sensor]\n",
    "plt.plot(milage,price,'.r', markersize = 10, label = '2016')\n",
    "\n",
    "milage = [car.milage for car in cars if car.year == 2017 and car.sensor]\n",
    "price = [car.price for car in cars if car.year == 2017 and car.sensor]\n",
    "plt.plot(milage,price,'.y', markersize = 5, label = '2017')\n",
    "\n",
    "plt.legend()\n",
    "plt.grid()\n",
    "plt.axis([4000, 12000, 60000, 120000])\n",
    "#plt.gcf().autofmt_xdate()\n",
    "#plt.ylim([60000, 150000])\n",
    "plt.xlabel('Miltal')\n",
    "plt.ylabel('Årtal')\n",
    "plt.savefig('2013.png')\n",
    "plt.show()\n",
    "\n",
    "req = [car for car in cars if car.milage < 10000 and car.price < 100000 and car.year == 2014 and not car.sold]\n",
    "for car in [car for car in cars if car.year == 2013 and car.sensor and car.price < 110000 and car.milage < 9000] :\n",
    "    print(car.year, car.url, car.basic_info['Bränsle'])\n",
    "print(len(cars))\n",
    "print(len([car for car in cars if car.sensor]))\n"
   ]
  },
  {
   "cell_type": "code",
   "execution_count": 132,
   "metadata": {},
   "outputs": [
    {
     "name": "stdout",
     "output_type": "stream",
     "text": [
      "1079\n",
      "True\n"
     ]
    },
    {
     "data": {
      "image/png": "[encoded data removed]",
      "text/plain": [
       "<Figure size 432x288 with 1 Axes>"
      ]
     },
     "metadata": {
      "needs_background": "light"
     },
     "output_type": "display_data"
    }
   ],
   "source": [
    "import matplotlib.pyplot as plt\n",
    "import matplotlib.dates as mdates\n",
    "import numpy as np\n",
    "import datetime as dt\n",
    "\n",
    "file_name = \"cars_at_1588161740.pickle\"\n",
    "pickle_in = open(file_name, 'rb')\n",
    "cars = pickle.load(pickle_in)\n",
    "pickle_in.close()\n",
    "\n",
    "#plt.gca().xaxis.set_major_formatter(mdates.DateFormatter('%Y-%m-%d'))\n",
    "#plt.gca().xaxis.set_major_locator(mdates.DayLocator(interval=20))\n",
    "print(len(cars))\n",
    "cars = [car for car in cars if \"Bränsle\" in car.basic_info]\n",
    "print('Bensin' in cars[4].basic_info['Bränsle'])\n",
    "\n",
    "\n",
    "\n",
    "milage = [car.milage for car in cars if car.basic_info['Bränsle'] == 'Bensin '] \n",
    "price = [car.price for car in cars if car.basic_info['Bränsle'] == 'Bensin ']\n",
    "plt.plot(milage,price,'.b', markersize = 20, label = 'Bensin')\n",
    "\n",
    "milage = [car.milage for car in cars if car.basic_info['Bränsle'] == 'Miljöbränsle/Hybrid '] \n",
    "price = [car.price for car in cars if car.basic_info['Bränsle'] == 'Miljöbränsle/Hybrid ']\n",
    "plt.plot(milage,price,'.c', markersize = 10, label = 'Miljöbränsle/Hybrid')\n",
    "\n",
    "milage = [car.milage for car in cars if car.basic_info['Bränsle'] == 'Diesel '] \n",
    "price = [car.price for car in cars if car.basic_info['Bränsle'] == 'Diesel ']\n",
    "plt.plot(milage,price,'.r', markersize = 5, label = 'Diesel')\n",
    "\n",
    "\n",
    "plt.legend()\n",
    "plt.grid()\n",
    "plt.axis([4000, 20000, 60000, 120000])\n",
    "#plt.gcf().autofmt_xdate()\n",
    "#plt.ylim([60000, 150000])\n",
    "plt.xlabel('Miltal')\n",
    "plt.ylabel('Årtal')\n",
    "plt.savefig('2013.png')\n",
    "plt.show()\n"
   ]
  },
  {
   "cell_type": "code",
   "execution_count": 50,
   "metadata": {},
   "outputs": [
    {
     "data": {
      "image/png": "[encoded data removed]",
      "text/plain": [
       "<Figure size 432x288 with 1 Axes>"
      ]
     },
     "metadata": {
      "needs_background": "light"
     },
     "output_type": "display_data"
    },
    {
     "name": "stdout",
     "output_type": "stream",
     "text": [
      "https://www.blocket.se/annons/vasterbotten/volkswagen_golf_1_6_tdi_bluemotion_4motion_11/89599163\n",
      "https://www.blocket.se/annons/stockholm/volkswagen_golf_1_2_tsi110_p_sensor/89598924\n",
      "https://www.blocket.se/annons/stockholm/volkswagen_golf_1_4_5_dorrar_tgi_cng_auto_eur/89598132\n",
      "https://www.blocket.se/annons/stockholm/volkswagen_golf_gti_performance_230hk_b_kamer/89597572\n",
      "https://www.blocket.se/annons/jonkoping/volkswagen_golf_tsi_125hk_sensorer/89596141\n",
      "https://www.blocket.se/annons/skane/volkswagen_golf_gt_1_4_tsi__150hk__r_line__hi/89603959\n",
      "https://www.blocket.se/annons/kronoberg/volkswagen_golf_tsi_110hk_dsg_panorama/89603914\n",
      "https://www.blocket.se/annons/stockholm/volkswagen_golf_5_dorrar_1_2_tsi_auto_style_e/89603471\n",
      "https://www.blocket.se/annons/skane/volkswagen_golf_1_2_clbm_81_tsi_m6f/89601473\n"
     ]
    }
   ],
   "source": [
    "import matplotlib.pyplot as plt\n",
    "import matplotlib.dates as mdates\n",
    "import numpy as np\n",
    "import datetime as dt\n",
    "\n",
    "file_name = \"cars_at_1587997969.pickle\"\n",
    "pickle_in = open(file_name, 'rb')\n",
    "cars = pickle.load(pickle_in)\n",
    "pickle_in.close()\n",
    "\n",
    "dates = [car.date for car in cars]\n",
    "c_date = min(dates)\n",
    "occurances = []\n",
    "plot_dates = []\n",
    "tomorrow = datetime.date.today() + datetime.timedelta(days=1)\n",
    "while not c_date == tomorrow:\n",
    "    #print(dates.count(c_date))\n",
    "    occurances.append(dates.count(c_date))\n",
    "    plot_dates.append(c_date)\n",
    "    c_date += datetime.timedelta(days=1)\n",
    "\n",
    "plt.gca().xaxis.set_major_formatter(mdates.DateFormatter('%Y-%m-%d'))\n",
    "plt.gca().xaxis.set_major_locator(mdates.DayLocator(interval=20))\n",
    "    \n",
    "plt.plot(plot_dates,occurances)\n",
    "        \n",
    "plt.gcf().autofmt_xdate()\n",
    "plt.show()\n",
    "\n",
    "today = datetime.date.today()\n",
    "yesterday = datetime.date.today() + datetime.timedelta(days=-1)\n",
    "day_before = datetime.date.today() + datetime.timedelta(days=-2)\n",
    "todays_cars = [car for car in cars if car.date==today]\n",
    "yesterday_cars = [car for car in cars if car.date==yesterday]\n",
    "day_before_cars = [car for car in cars if car.date==day_before]\n",
    "\n",
    "for car in todays_cars:\n",
    "    print(car.url)"
   ]
  },
  {
   "cell_type": "code",
   "execution_count": 16,
   "metadata": {},
   "outputs": [
    {
     "name": "stdout",
     "output_type": "stream",
     "text": [
      "169000 True False https://www.blocket.se/annons/stockholm/volkswagen_golf_1_4_tsi_dsg_sport__r_line/89431388\n",
      "129900 True False https://www.blocket.se/annons/halland/volkswagen_golf_1_2_tsi_110/89428275\n",
      "199900 False True https://www.blocket.se/annons/stockholm/volkswagen_golf_gte_1_4_tsi_dsg_drag/89426844\n",
      "119900 False True https://www.blocket.se/annons/stockholm/volkswagen_golf_1_2_tsi_110_hk___master/89380208\n",
      "142500 False False https://www.blocket.se/annons/halland/volkswagen_golf_1_2_tsi_dsg_style_110hk_1_99_/89254571\n",
      "117000 False False https://www.blocket.se/annons/sodermanland/volkswagen_golf_5_dorrar_tsi_comf_line_blueto/87484907\n",
      "128500 False False https://www.blocket.se/annons/alvsborg/volkswagen_golf_tsi_110__appconnect_adaptiv_f/89026386\n",
      "149000 False False https://www.blocket.se/annons/blekinge/volkswagen_golf_sportsvan_1_2_tsi_style_autom/88961968\n",
      "160000 True False https://www.blocket.se/annons/gavleborg/volkswagen_golf_5_dorrar_1_4_tsi_150_hk_gt_eu/88567959\n",
      "129900 False False https://www.blocket.se/annons/goteborg/volkswagen_golf_1_2___791kr_manaden/87620638\n",
      "139900 True False https://www.blocket.se/annons/orebro/volkswagen_golf_1_2_tsi_comfort_varmare_drag_/88452166\n",
      "149900 True False https://www.blocket.se/annons/goteborg/volkswagen_golf_5_dorrar_1_6_tdi_bluemotion_s/86910679\n",
      "129900 True False https://www.blocket.se/annons/uppsala/volkswagen_golf_1_6_tdi_diesel_110hk_5_dorrar/89491924\n",
      "199900 True False https://www.blocket.se/annons/stockholm/volkswagen_golf_gte_1_4_tsi_dsg_keyless_drag/89426844\n",
      "14\n"
     ]
    }
   ],
   "source": [
    "import pickle\n",
    "import matplotlib.pyplot as plt\n",
    "import matplotlib.dates as mdates\n",
    "import numpy as np\n",
    "import datetime as dt\n",
    "\n",
    "file_name = \"cars_at_1587984227.pickle\"\n",
    "pickle_in = open(file_name, 'rb')\n",
    "cars = pickle.load(pickle_in)\n",
    "pickle_in.close()\n",
    "\n",
    "req = [car for car in cars if car.milage == 5999 and car.year == 2016]\n",
    "\n",
    "for car in req:\n",
    "    print(car.price, car.url)\n",
    "print(len(req))"
   ]
  },
  {
   "cell_type": "code",
   "execution_count": null,
   "metadata": {},
   "outputs": [],
   "source": []
  }
 ],
 "metadata": {
  "kernelspec": {
   "display_name": "Python 3",
   "language": "python",
   "name": "python3"
  },
  "language_info": {
   "codemirror_mode": {
    "name": "ipython",
    "version": 3
   },
   "file_extension": ".py",
   "mimetype": "text/x-python",
   "name": "python",
   "nbconvert_exporter": "python",
   "pygments_lexer": "ipython3",
   "version": "3.6.8"
  }
 },
 "nbformat": 4,
 "nbformat_minor": 2
}
